{
 "cells": [
  {
   "cell_type": "code",
   "execution_count": null,
   "id": "748947d2",
   "metadata": {},
   "outputs": [],
   "source": [
    "import padas as pd"
   ]
  },
  {
   "cell_type": "code",
   "execution_count": null,
   "id": "86ad162c",
   "metadata": {},
   "outputs": [],
   "source": []
  }
 ],
 "metadata": {
  "kernelspec": {
   "display_name": "PythonData",
   "language": "python",
   "name": "pythondata"
  },
  "language_info": {
   "codemirror_mode": {
    "name": "ipython",
    "version": 3
   },
   "file_extension": ".py",
   "mimetype": "text/x-python",
   "name": "python",
   "nbconvert_exporter": "python",
   "pygments_lexer": "ipython3",
   "version": "3.7.6"
  }
 },
 "nbformat": 4,
 "nbformat_minor": 5
}
